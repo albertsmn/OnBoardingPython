{
 "cells": [
  {
   "cell_type": "markdown",
   "metadata": {},
   "source": [
    "# Trabajando con cadena en Python"
   ]
  },
  {
   "cell_type": "code",
   "execution_count": 10,
   "metadata": {},
   "outputs": [
    {
     "name": "stdout",
     "output_type": "stream",
     "text": [
      "\n",
      "On average, the Moon moves 4cm away from the Earth every year\n",
      "The highest daylight temperature of the Moon is 127 Celsius.\n"
     ]
    }
   ],
   "source": [
    "text = \"\"\"Interesting facts about the Moon. The Moon is Earth's only satellite. There are several interesting facts about the Moon and how it affects life here on Earth. \n",
    "On average, the Moon moves 4cm away from the Earth every year. This yearly drift is not significant enough to cause immediate effects on Earth. The highest daylight temperature of the Moon is 127 C.\"\"\"\n",
    "sentences = text.split('. ')\n",
    "facts = ['average','temperature','distance']\n",
    "for sentence in sentences:    \n",
    "    for fact in facts:\n",
    "        if fact in sentence:            \n",
    "            print(sentence.replace(' C', ' Celsius'))"
   ]
  },
  {
   "cell_type": "markdown",
   "metadata": {},
   "source": [
    "# Formateando candenas"
   ]
  },
  {
   "cell_type": "code",
   "execution_count": 31,
   "metadata": {},
   "outputs": [
    {
     "name": "stdout",
     "output_type": "stream",
     "text": [
      "Información Sobre El Moon\n",
      "-------------------------------------------------- \n",
      "Nombre del planeta: Earth\n",
      "La gravedad en Moon: 1.6199999999999999 m/s2\n",
      "\n",
      "Información Sobre El Moon\n",
      "-------------------------------------------------- \n",
      "Nombre del planeta: Earth\n",
      "La gravedad en Moon: 1.6199999999999999 m/s2\n",
      "\n",
      "Datos de graverdad sobre: Marte\n",
      "--------------------------------\n",
      "Nombre del planeta: Ganímedes \n",
      "La gravedad en Marte: 1.4300000000000002 m/s2\n",
      "\n"
     ]
    }
   ],
   "source": [
    "name = \"Moon\"\n",
    "gravity = 0.00162\n",
    "planet = \"Earth\"\n",
    "\n",
    "title = f'Información sobre el {name}'.title()\n",
    "facts = f\"\"\"{'-'*50} \n",
    "Nombre del planeta: {planet}\n",
    "La gravedad en {name}: {gravity*1000} m/s2\n",
    "\"\"\"\n",
    "template = f\"\"\"{title}\n",
    "{facts}\"\"\"\n",
    "print(template)\n",
    "\n",
    "name = 'Marte'\n",
    "gravity = 0.00143\n",
    "planet = 'Ganímedes'\n",
    "\n",
    "print(template)\n",
    "new_template = \"\"\"Datos de graverdad sobre: {0}\n",
    "--------------------------------\n",
    "Nombre del planeta: {2} \n",
    "La gravedad en {0}: {1} m/s2\n",
    "\"\"\"\n",
    "print(new_template.format(name, gravity*1000, planet))"
   ]
  }
 ],
 "metadata": {
  "interpreter": {
   "hash": "7a792fcb311f9eb9f3c1b942a8c87ada8484712b89b670347c16a1088e0a1f69"
  },
  "kernelspec": {
   "display_name": "Python 3.9.10 64-bit",
   "language": "python",
   "name": "python3"
  },
  "language_info": {
   "codemirror_mode": {
    "name": "ipython",
    "version": 3
   },
   "file_extension": ".py",
   "mimetype": "text/x-python",
   "name": "python",
   "nbconvert_exporter": "python",
   "pygments_lexer": "ipython3",
   "version": "3.9.10"
  },
  "orig_nbformat": 4
 },
 "nbformat": 4,
 "nbformat_minor": 2
}
