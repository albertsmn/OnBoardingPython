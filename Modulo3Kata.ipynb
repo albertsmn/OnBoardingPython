{
 "cells": [
  {
   "cell_type": "markdown",
   "metadata": {},
   "source": [
    "# Un asteroide se acerca, y viaja a una velicidad de 49 km/s."
   ]
  },
  {
   "cell_type": "code",
   "execution_count": 2,
   "metadata": {},
   "outputs": [
    {
     "name": "stdout",
     "output_type": "stream",
     "text": [
      "Cuidado un asteroide se acerca peligrosamente\n"
     ]
    }
   ],
   "source": [
    "velocidad = 49\n",
    "if velocidad > 25 :\n",
    "    print(\"Cuidado un asteroide se acerca peligrosamente\")\n",
    "else:\n",
    "    print(\"Un día normal como cualquier otro\")"
   ]
  },
  {
   "cell_type": "markdown",
   "metadata": {},
   "source": [
    "# Un asteroide se acerca pero a menor velocidad"
   ]
  },
  {
   "cell_type": "code",
   "execution_count": 4,
   "metadata": {},
   "outputs": [
    {
     "name": "stdout",
     "output_type": "stream",
     "text": [
      "Nada que ver el día de hoy.\n"
     ]
    }
   ],
   "source": [
    "velocidad = 19\n",
    "if velocidad > 20:\n",
    "    print(\"¡Mira al cielo!, un asteroide se encuentra entrando a la tierra\")\n",
    "elif velocidad == 20:\n",
    "    print(\"¡Un asteriode se puede observar entrando a la tierra!\")\n",
    "else:\n",
    "    print(\"Nada que ver el día de hoy.\")\n"
   ]
  },
  {
   "cell_type": "markdown",
   "metadata": {},
   "source": [
    "# Advirtiendo sobre asteroides de diferentes tamaños y velocidades"
   ]
  },
  {
   "cell_type": "code",
   "execution_count": 12,
   "metadata": {},
   "outputs": [
    {
     "name": "stdout",
     "output_type": "stream",
     "text": [
      "Mira al cielo y te sorprenderas\n"
     ]
    }
   ],
   "source": [
    "velocidad = 22\n",
    "tamano = 10\n",
    "if tamano > 25 and tamano < 1000:\n",
    "    print(\"Peligro inminente corra por su vida\")\n",
    "elif velocidad > 25:\n",
    "    print(\"Un asteroide a alta velocidad se acerca\")\n",
    "elif velocidad >= 20:\n",
    "    print(\"Mira al cielo y te sorprenderas\")\n",
    "elif tamano < 25:\n",
    "    print(\"Es un hermoso día sin complicaciones\")\n",
    "else:\n",
    "    print(\"Nada de que sorprenderse\")"
   ]
  }
 ],
 "metadata": {
  "interpreter": {
   "hash": "7a792fcb311f9eb9f3c1b942a8c87ada8484712b89b670347c16a1088e0a1f69"
  },
  "kernelspec": {
   "display_name": "Python 3.9.10 64-bit",
   "language": "python",
   "name": "python3"
  },
  "language_info": {
   "codemirror_mode": {
    "name": "ipython",
    "version": 3
   },
   "file_extension": ".py",
   "mimetype": "text/x-python",
   "name": "python",
   "nbconvert_exporter": "python",
   "pygments_lexer": "ipython3",
   "version": "3.9.10"
  },
  "orig_nbformat": 4
 },
 "nbformat": 4,
 "nbformat_minor": 2
}
